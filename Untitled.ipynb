{
 "cells": [
  {
   "cell_type": "code",
   "execution_count": 1,
   "metadata": {
    "ExecuteTime": {
     "end_time": "2020-02-13T20:29:54.755081Z",
     "start_time": "2020-02-13T20:29:48.206089Z"
    }
   },
   "outputs": [
    {
     "name": "stderr",
     "output_type": "stream",
     "text": [
      "C:\\ProgramData\\Anaconda3\\lib\\site-packages\\h5py\\__init__.py:34: FutureWarning: Conversion of the second argument of issubdtype from `float` to `np.floating` is deprecated. In future, it will be treated as `np.float64 == np.dtype(float).type`.\n",
      "  from ._conv import register_converters as _register_converters\n",
      "Using TensorFlow backend.\n"
     ]
    }
   ],
   "source": [
    "import pandas as pd\n",
    "import numpy as np\n",
    "import tensorflow as tf\n",
    "from matplotlib import pyplot as plt\n",
    "from sklearn.metrics import confusion_matrix\n",
    "\n",
    "import keras\n",
    "from keras.models import load_model\n",
    "\n",
    "from utility import clean_data, plot_images\n",
    "import math\n",
    "\n",
    "#from vis.visualization import visualize_saliency, overlay\n",
    "#from keras.utils import utils\n",
    "from keras import activations\n",
    "from keras.models import load_model"
   ]
  },
  {
   "cell_type": "code",
   "execution_count": 3,
   "metadata": {
    "ExecuteTime": {
     "end_time": "2020-02-13T20:30:53.407954Z",
     "start_time": "2020-02-13T20:30:53.395988Z"
    }
   },
   "outputs": [],
   "source": [
    "classes = ['transverse','longitudinal', 'fatigue','normal']"
   ]
  },
  {
   "cell_type": "code",
   "execution_count": 4,
   "metadata": {
    "ExecuteTime": {
     "end_time": "2020-02-13T20:31:17.713444Z",
     "start_time": "2020-02-13T20:31:17.614152Z"
    }
   },
   "outputs": [],
   "source": [
    "def plot_confusion_matrix(y_true,y_pred,classes,\n",
    "                         normalize=False,\n",
    "                         titile=None,\n",
    "                         cmap=plt.cm.Blues):\n",
    "    title = 0\n",
    "    if not title:\n",
    "        if normalize:\n",
    "            title = 'Normalized confusion matirx'\n",
    "        else:\n",
    "            title = 'Confusion matrixe, witout normalization'\n",
    "        \n",
    "        cm = confusion_matrix(y_true,y_pred)\n",
    "        \n",
    "        if normalize:\n",
    "            cm = cm.astype('float') / cm.sum(axis=1)[:, np.newaxis]\n",
    "            print(\"Normalized confusion matirx\")\n",
    "        else:\n",
    "            print('Cnfusion matrix, without normalization')\n",
    "        \n",
    "        print(cm)\n",
    "        \n",
    "        fig, ax = plt.subplots()\n",
    "        im = ax.imshow(cm, interpolation='nearest', cmap=cmap)\n",
    "        ax.figure.colorbar(im, ax=ax)\n",
    "        # We want to show all ticks...\n",
    "        ax.set(xticks=np.arange(cm.shape[1]),\n",
    "               yticks=np.arange(cm.shape[0]),\n",
    "               # ... and label them with the respective list entries\n",
    "               xticklabels=classes, yticklabels=classes,\n",
    "               title=title,\n",
    "               ylabel='True label',\n",
    "               xlabel='Predicted label')\n",
    "\n",
    "        # Rotate the tick labels and set their alignment.\n",
    "        plt.setp(ax.get_xticklabels(), rotation=45, ha=\"right\",\n",
    "                 rotation_mode=\"anchor\")\n",
    "\n",
    "        # Loop over data dimensions and create text annotations.\n",
    "        fmt = '.2f' if normalize else 'd'\n",
    "        thresh = cm.max() / 2.\n",
    "        for i in range(cm.shape[0]):\n",
    "            for j in range(cm.shape[1]):\n",
    "                ax.text(j, i, format(cm[i, j], fmt),\n",
    "                        ha=\"center\", va=\"center\",\n",
    "                        color=\"white\" if cm[i, j] > thresh else \"black\")\n",
    "        fig.tight_layout()\n",
    "        return ax"
   ]
  },
  {
   "cell_type": "code",
   "execution_count": 5,
   "metadata": {
    "ExecuteTime": {
     "end_time": "2020-02-13T20:31:41.425338Z",
     "start_time": "2020-02-13T20:31:34.504427Z"
    }
   },
   "outputs": [],
   "source": [
    "train_data = clean_data('train2.csv')\n",
    "train = train_data.feature.reshape((-1, 80, 80, 1))/255\n",
    "train_x = train[:-400]\n",
    "train_label = train_data.label[:-400]\n",
    "train_onehot = train_data.onehot[:-400]\n",
    "test_data = clean_data('test.csv')\n",
    "test = test_data.feature.reshape((-1, 80, 80, 1))/255\n",
    "test_x = test[0:]\n",
    "test_label = test_data.label[0:]\n",
    "test_onehot = test_data.onehot[0:]\n",
    "\n",
    "#test_x = train[-400:]\n",
    "#test_label = train_data.label[-400:]\n",
    "#test_onehot = train_data.onehot[-400:]"
   ]
  },
  {
   "cell_type": "code",
   "execution_count": 7,
   "metadata": {
    "ExecuteTime": {
     "end_time": "2020-02-13T20:33:27.045450Z",
     "start_time": "2020-02-13T20:33:20.611855Z"
    }
   },
   "outputs": [],
   "source": [
    "cnn = tf.keras.models.load_model('cnn.h5')\n",
    "dnn = tf.keras.models.load_model('DNN-64-epoch-1968_loss-0.4571_val_acc-0.8632.h5')"
   ]
  },
  {
   "cell_type": "code",
   "execution_count": 8,
   "metadata": {
    "ExecuteTime": {
     "end_time": "2020-02-13T20:33:47.882397Z",
     "start_time": "2020-02-13T20:33:47.868431Z"
    }
   },
   "outputs": [],
   "source": [
    "cnn.graph = tf.get_default_graph()"
   ]
  },
  {
   "cell_type": "code",
   "execution_count": 9,
   "metadata": {
    "ExecuteTime": {
     "end_time": "2020-02-13T20:33:59.519869Z",
     "start_time": "2020-02-13T20:33:57.053365Z"
    }
   },
   "outputs": [],
   "source": [
    "cnn_predict = cnn.predict(test_x)\n",
    "cnn_cls = np.argmax(cnn_predict,axis=1)\n",
    "cnn_cls+=1"
   ]
  },
  {
   "cell_type": "code",
   "execution_count": 10,
   "metadata": {
    "ExecuteTime": {
     "end_time": "2020-02-13T20:34:06.972142Z",
     "start_time": "2020-02-13T20:34:06.215725Z"
    }
   },
   "outputs": [],
   "source": [
    "dnn_predict = dnn.predict(test_x)\n",
    "dnn_cls = np.argmax(dnn_predict,axis=1)\n",
    "dnn_cls+=1"
   ]
  },
  {
   "cell_type": "code",
   "execution_count": 11,
   "metadata": {
    "ExecuteTime": {
     "end_time": "2020-02-13T20:34:20.493230Z",
     "start_time": "2020-02-13T20:34:20.458271Z"
    }
   },
   "outputs": [
    {
     "data": {
      "text/plain": [
       "array([[ 80,   7,   1,   0],\n",
       "       [  0, 112,   0,   0],\n",
       "       [  0,   9, 103,   0],\n",
       "       [  0,  86,   0,  21]], dtype=int64)"
      ]
     },
     "execution_count": 11,
     "metadata": {},
     "output_type": "execute_result"
    }
   ],
   "source": [
    "confusion_matrix(test_label,cnn_cls)"
   ]
  },
  {
   "cell_type": "code",
   "execution_count": 12,
   "metadata": {
    "ExecuteTime": {
     "end_time": "2020-02-13T20:34:45.632072Z",
     "start_time": "2020-02-13T20:34:45.234973Z"
    }
   },
   "outputs": [
    {
     "name": "stdout",
     "output_type": "stream",
     "text": [
      "Cnfusion matrix, without normalization\n",
      "[[ 80   7   1   0]\n",
      " [  0 112   0   0]\n",
      " [  0   9 103   0]\n",
      " [  0  86   0  21]]\n"
     ]
    },
    {
     "data": {
      "text/plain": [
       "<matplotlib.axes._subplots.AxesSubplot at 0x21a6e1e13c8>"
      ]
     },
     "execution_count": 12,
     "metadata": {},
     "output_type": "execute_result"
    },
    {
     "data": {
      "image/png": "[encoded data removed]",
      "text/plain": [
       "<matplotlib.figure.Figure at 0x21a4be3b630>"
      ]
     },
     "metadata": {},
     "output_type": "display_data"
    }
   ],
   "source": [
    "plot_confusion_matrix(test_label,cnn_cls,classes)"
   ]
  },
  {
   "cell_type": "code",
   "execution_count": 13,
   "metadata": {
    "ExecuteTime": {
     "end_time": "2020-02-13T20:35:33.312215Z",
     "start_time": "2020-02-13T20:35:32.969233Z"
    }
   },
   "outputs": [
    {
     "name": "stdout",
     "output_type": "stream",
     "text": [
      "Cnfusion matrix, without normalization\n",
      "[[  0  88   0   0]\n",
      " [  0 112   0   0]\n",
      " [  0 112   0   0]\n",
      " [  0 107   0   0]]\n"
     ]
    },
    {
     "data": {
      "text/plain": [
       "<matplotlib.axes._subplots.AxesSubplot at 0x21a704c2940>"
      ]
     },
     "execution_count": 13,
     "metadata": {},
     "output_type": "execute_result"
    },
    {
     "data": {
      "image/png": "[encoded data removed]",
      "text/plain": [
       "<matplotlib.figure.Figure at 0x21a4be3b5f8>"
      ]
     },
     "metadata": {},
     "output_type": "display_data"
    }
   ],
   "source": [
    "plot_confusion_matrix(test_label,dnn_cls,classes)"
   ]
  },
  {
   "cell_type": "code",
   "execution_count": null,
   "metadata": {},
   "outputs": [],
   "source": []
  }
 ],
 "metadata": {
  "kernelspec": {
   "display_name": "Python 3",
   "language": "python",
   "name": "python3"
  },
  "language_info": {
   "codemirror_mode": {
    "name": "ipython",
    "version": 3
   },
   "file_extension": ".py",
   "mimetype": "text/x-python",
   "name": "python",
   "nbconvert_exporter": "python",
   "pygments_lexer": "ipython3",
   "version": "3.6.3"
  },
  "toc": {
   "base_numbering": 1,
   "nav_menu": {},
   "number_sections": true,
   "sideBar": true,
   "skip_h1_title": false,
   "title_cell": "Table of Contents",
   "title_sidebar": "Contents",
   "toc_cell": false,
   "toc_position": {},
   "toc_section_display": true,
   "toc_window_display": false
  },
  "varInspector": {
   "cols": {
    "lenName": 16,
    "lenType": 16,
    "lenVar": 40
   },
   "kernels_config": {
    "python": {
     "delete_cmd_postfix": "",
     "delete_cmd_prefix": "del ",
     "library": "var_list.py",
     "varRefreshCmd": "print(var_dic_list())"
    },
    "r": {
     "delete_cmd_postfix": ") ",
     "delete_cmd_prefix": "rm(",
     "library": "var_list.r",
     "varRefreshCmd": "cat(var_dic_list()) "
    }
   },
   "types_to_exclude": [
    "module",
    "function",
    "builtin_function_or_method",
    "instance",
    "_Feature"
   ],
   "window_display": false
  }
 },
 "nbformat": 4,
 "nbformat_minor": 2
}
